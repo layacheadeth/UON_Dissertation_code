{
 "cells": [
  {
   "cell_type": "code",
   "execution_count": 482,
   "id": "cfc528e2",
   "metadata": {},
   "outputs": [
    {
     "data": {
      "text/html": [
       "<div>\n",
       "<style scoped>\n",
       "    .dataframe tbody tr th:only-of-type {\n",
       "        vertical-align: middle;\n",
       "    }\n",
       "\n",
       "    .dataframe tbody tr th {\n",
       "        vertical-align: top;\n",
       "    }\n",
       "\n",
       "    .dataframe thead th {\n",
       "        text-align: right;\n",
       "    }\n",
       "</style>\n",
       "<table border=\"1\" class=\"dataframe\">\n",
       "  <thead>\n",
       "    <tr style=\"text-align: right;\">\n",
       "      <th></th>\n",
       "      <th>deceptive</th>\n",
       "      <th>hotel</th>\n",
       "      <th>polarity</th>\n",
       "      <th>source</th>\n",
       "      <th>text</th>\n",
       "    </tr>\n",
       "  </thead>\n",
       "  <tbody>\n",
       "    <tr>\n",
       "      <th>0</th>\n",
       "      <td>truthful</td>\n",
       "      <td>conrad</td>\n",
       "      <td>positive</td>\n",
       "      <td>TripAdvisor</td>\n",
       "      <td>We stayed for a one night getaway with family ...</td>\n",
       "    </tr>\n",
       "    <tr>\n",
       "      <th>1</th>\n",
       "      <td>truthful</td>\n",
       "      <td>hyatt</td>\n",
       "      <td>positive</td>\n",
       "      <td>TripAdvisor</td>\n",
       "      <td>Triple A rate with upgrade to view room was le...</td>\n",
       "    </tr>\n",
       "    <tr>\n",
       "      <th>2</th>\n",
       "      <td>truthful</td>\n",
       "      <td>hyatt</td>\n",
       "      <td>positive</td>\n",
       "      <td>TripAdvisor</td>\n",
       "      <td>This comes a little late as I'm finally catchi...</td>\n",
       "    </tr>\n",
       "    <tr>\n",
       "      <th>3</th>\n",
       "      <td>truthful</td>\n",
       "      <td>omni</td>\n",
       "      <td>positive</td>\n",
       "      <td>TripAdvisor</td>\n",
       "      <td>The Omni Chicago really delivers on all fronts...</td>\n",
       "    </tr>\n",
       "    <tr>\n",
       "      <th>4</th>\n",
       "      <td>truthful</td>\n",
       "      <td>hyatt</td>\n",
       "      <td>positive</td>\n",
       "      <td>TripAdvisor</td>\n",
       "      <td>I asked for a high floor away from the elevato...</td>\n",
       "    </tr>\n",
       "    <tr>\n",
       "      <th>...</th>\n",
       "      <td>...</td>\n",
       "      <td>...</td>\n",
       "      <td>...</td>\n",
       "      <td>...</td>\n",
       "      <td>...</td>\n",
       "    </tr>\n",
       "    <tr>\n",
       "      <th>1595</th>\n",
       "      <td>deceptive</td>\n",
       "      <td>intercontinental</td>\n",
       "      <td>negative</td>\n",
       "      <td>MTurk</td>\n",
       "      <td>Problems started when I booked the InterContin...</td>\n",
       "    </tr>\n",
       "    <tr>\n",
       "      <th>1596</th>\n",
       "      <td>deceptive</td>\n",
       "      <td>amalfi</td>\n",
       "      <td>negative</td>\n",
       "      <td>MTurk</td>\n",
       "      <td>The Amalfi Hotel has a beautiful website and i...</td>\n",
       "    </tr>\n",
       "    <tr>\n",
       "      <th>1597</th>\n",
       "      <td>deceptive</td>\n",
       "      <td>intercontinental</td>\n",
       "      <td>negative</td>\n",
       "      <td>MTurk</td>\n",
       "      <td>The Intercontinental Chicago Magnificent Mile ...</td>\n",
       "    </tr>\n",
       "    <tr>\n",
       "      <th>1598</th>\n",
       "      <td>deceptive</td>\n",
       "      <td>palmer</td>\n",
       "      <td>negative</td>\n",
       "      <td>MTurk</td>\n",
       "      <td>The Palmer House Hilton, while it looks good i...</td>\n",
       "    </tr>\n",
       "    <tr>\n",
       "      <th>1599</th>\n",
       "      <td>deceptive</td>\n",
       "      <td>amalfi</td>\n",
       "      <td>negative</td>\n",
       "      <td>MTurk</td>\n",
       "      <td>As a former Chicagoan, I'm appalled at the Ama...</td>\n",
       "    </tr>\n",
       "  </tbody>\n",
       "</table>\n",
       "<p>1600 rows × 5 columns</p>\n",
       "</div>"
      ],
      "text/plain": [
       "      deceptive             hotel  polarity       source  \\\n",
       "0      truthful            conrad  positive  TripAdvisor   \n",
       "1      truthful             hyatt  positive  TripAdvisor   \n",
       "2      truthful             hyatt  positive  TripAdvisor   \n",
       "3      truthful              omni  positive  TripAdvisor   \n",
       "4      truthful             hyatt  positive  TripAdvisor   \n",
       "...         ...               ...       ...          ...   \n",
       "1595  deceptive  intercontinental  negative        MTurk   \n",
       "1596  deceptive            amalfi  negative        MTurk   \n",
       "1597  deceptive  intercontinental  negative        MTurk   \n",
       "1598  deceptive            palmer  negative        MTurk   \n",
       "1599  deceptive            amalfi  negative        MTurk   \n",
       "\n",
       "                                                   text  \n",
       "0     We stayed for a one night getaway with family ...  \n",
       "1     Triple A rate with upgrade to view room was le...  \n",
       "2     This comes a little late as I'm finally catchi...  \n",
       "3     The Omni Chicago really delivers on all fronts...  \n",
       "4     I asked for a high floor away from the elevato...  \n",
       "...                                                 ...  \n",
       "1595  Problems started when I booked the InterContin...  \n",
       "1596  The Amalfi Hotel has a beautiful website and i...  \n",
       "1597  The Intercontinental Chicago Magnificent Mile ...  \n",
       "1598  The Palmer House Hilton, while it looks good i...  \n",
       "1599  As a former Chicagoan, I'm appalled at the Ama...  \n",
       "\n",
       "[1600 rows x 5 columns]"
      ]
     },
     "execution_count": 482,
     "metadata": {},
     "output_type": "execute_result"
    }
   ],
   "source": [
    "import numpy as np\n",
    "import pandas as pd\n",
    "\n",
    "df = pd.read_csv('../dataset/deceptive-opinion.csv')\n",
    "df"
   ]
  },
  {
   "cell_type": "code",
   "execution_count": 483,
   "id": "b1c0136f",
   "metadata": {},
   "outputs": [
    {
     "data": {
      "text/plain": [
       "deceptive    0\n",
       "hotel        0\n",
       "polarity     0\n",
       "source       0\n",
       "text         0\n",
       "dtype: int64"
      ]
     },
     "execution_count": 483,
     "metadata": {},
     "output_type": "execute_result"
    }
   ],
   "source": [
    "df.isnull().sum()"
   ]
  },
  {
   "cell_type": "code",
   "execution_count": 484,
   "id": "531774e3",
   "metadata": {},
   "outputs": [
    {
     "data": {
      "text/plain": [
       "array(['conrad', 'hyatt', 'omni', 'fairmont', 'sheraton', 'knickerbocker',\n",
       "       'homewood', 'swissotel', 'ambassador', 'affinia', 'hardrock',\n",
       "       'talbott', 'hilton', 'james', 'monaco', 'sofitel', 'palmer',\n",
       "       'intercontinental', 'allegro', 'amalfi'], dtype=object)"
      ]
     },
     "execution_count": 484,
     "metadata": {},
     "output_type": "execute_result"
    }
   ],
   "source": [
    "df['hotel'].unique()"
   ]
  },
  {
   "cell_type": "code",
   "execution_count": 485,
   "id": "d21c7b07",
   "metadata": {},
   "outputs": [
    {
     "data": {
      "text/plain": [
       "<AxesSubplot:xlabel='deceptive', ylabel='count'>"
      ]
     },
     "execution_count": 485,
     "metadata": {},
     "output_type": "execute_result"
    },
    {
     "data": {
      "image/png": "[encoded data removed]",
      "text/plain": [
       "<Figure size 640x480 with 1 Axes>"
      ]
     },
     "metadata": {},
     "output_type": "display_data"
    }
   ],
   "source": [
    "import seaborn as sns\n",
    "import matplotlib.pyplot as plt\n",
    "sns.countplot(x=df['deceptive'], hue='polarity', data = df)"
   ]
  },
  {
   "cell_type": "code",
   "execution_count": 486,
   "id": "1d190a97",
   "metadata": {},
   "outputs": [
    {
     "data": {
      "text/plain": [
       "<AxesSubplot:xlabel='deceptive', ylabel='count'>"
      ]
     },
     "execution_count": 486,
     "metadata": {},
     "output_type": "execute_result"
    },
    {
     "data": {
      "image/png": "[encoded data removed]",
      "text/plain": [
       "<Figure size 640x480 with 1 Axes>"
      ]
     },
     "metadata": {},
     "output_type": "display_data"
    }
   ],
   "source": [
    "sns.countplot(x=df['deceptive'],hue='hotel',data=df)\n"
   ]
  },
  {
   "cell_type": "code",
   "execution_count": 487,
   "id": "81a0fca7",
   "metadata": {},
   "outputs": [],
   "source": [
    "df=df.drop(['hotel'],axis=1)\n"
   ]
  },
  {
   "cell_type": "code",
   "execution_count": 488,
   "id": "21c032c6",
   "metadata": {},
   "outputs": [
    {
     "data": {
      "text/html": [
       "<div>\n",
       "<style scoped>\n",
       "    .dataframe tbody tr th:only-of-type {\n",
       "        vertical-align: middle;\n",
       "    }\n",
       "\n",
       "    .dataframe tbody tr th {\n",
       "        vertical-align: top;\n",
       "    }\n",
       "\n",
       "    .dataframe thead th {\n",
       "        text-align: right;\n",
       "    }\n",
       "</style>\n",
       "<table border=\"1\" class=\"dataframe\">\n",
       "  <thead>\n",
       "    <tr style=\"text-align: right;\">\n",
       "      <th></th>\n",
       "      <th>deceptive</th>\n",
       "      <th>polarity</th>\n",
       "      <th>source</th>\n",
       "      <th>text</th>\n",
       "    </tr>\n",
       "  </thead>\n",
       "  <tbody>\n",
       "    <tr>\n",
       "      <th>0</th>\n",
       "      <td>truthful</td>\n",
       "      <td>positive</td>\n",
       "      <td>TripAdvisor</td>\n",
       "      <td>We stayed for a one night getaway with family ...</td>\n",
       "    </tr>\n",
       "    <tr>\n",
       "      <th>1</th>\n",
       "      <td>truthful</td>\n",
       "      <td>positive</td>\n",
       "      <td>TripAdvisor</td>\n",
       "      <td>Triple A rate with upgrade to view room was le...</td>\n",
       "    </tr>\n",
       "    <tr>\n",
       "      <th>2</th>\n",
       "      <td>truthful</td>\n",
       "      <td>positive</td>\n",
       "      <td>TripAdvisor</td>\n",
       "      <td>This comes a little late as I'm finally catchi...</td>\n",
       "    </tr>\n",
       "    <tr>\n",
       "      <th>3</th>\n",
       "      <td>truthful</td>\n",
       "      <td>positive</td>\n",
       "      <td>TripAdvisor</td>\n",
       "      <td>The Omni Chicago really delivers on all fronts...</td>\n",
       "    </tr>\n",
       "    <tr>\n",
       "      <th>4</th>\n",
       "      <td>truthful</td>\n",
       "      <td>positive</td>\n",
       "      <td>TripAdvisor</td>\n",
       "      <td>I asked for a high floor away from the elevato...</td>\n",
       "    </tr>\n",
       "    <tr>\n",
       "      <th>...</th>\n",
       "      <td>...</td>\n",
       "      <td>...</td>\n",
       "      <td>...</td>\n",
       "      <td>...</td>\n",
       "    </tr>\n",
       "    <tr>\n",
       "      <th>1595</th>\n",
       "      <td>deceptive</td>\n",
       "      <td>negative</td>\n",
       "      <td>MTurk</td>\n",
       "      <td>Problems started when I booked the InterContin...</td>\n",
       "    </tr>\n",
       "    <tr>\n",
       "      <th>1596</th>\n",
       "      <td>deceptive</td>\n",
       "      <td>negative</td>\n",
       "      <td>MTurk</td>\n",
       "      <td>The Amalfi Hotel has a beautiful website and i...</td>\n",
       "    </tr>\n",
       "    <tr>\n",
       "      <th>1597</th>\n",
       "      <td>deceptive</td>\n",
       "      <td>negative</td>\n",
       "      <td>MTurk</td>\n",
       "      <td>The Intercontinental Chicago Magnificent Mile ...</td>\n",
       "    </tr>\n",
       "    <tr>\n",
       "      <th>1598</th>\n",
       "      <td>deceptive</td>\n",
       "      <td>negative</td>\n",
       "      <td>MTurk</td>\n",
       "      <td>The Palmer House Hilton, while it looks good i...</td>\n",
       "    </tr>\n",
       "    <tr>\n",
       "      <th>1599</th>\n",
       "      <td>deceptive</td>\n",
       "      <td>negative</td>\n",
       "      <td>MTurk</td>\n",
       "      <td>As a former Chicagoan, I'm appalled at the Ama...</td>\n",
       "    </tr>\n",
       "  </tbody>\n",
       "</table>\n",
       "<p>1600 rows × 4 columns</p>\n",
       "</div>"
      ],
      "text/plain": [
       "      deceptive  polarity       source  \\\n",
       "0      truthful  positive  TripAdvisor   \n",
       "1      truthful  positive  TripAdvisor   \n",
       "2      truthful  positive  TripAdvisor   \n",
       "3      truthful  positive  TripAdvisor   \n",
       "4      truthful  positive  TripAdvisor   \n",
       "...         ...       ...          ...   \n",
       "1595  deceptive  negative        MTurk   \n",
       "1596  deceptive  negative        MTurk   \n",
       "1597  deceptive  negative        MTurk   \n",
       "1598  deceptive  negative        MTurk   \n",
       "1599  deceptive  negative        MTurk   \n",
       "\n",
       "                                                   text  \n",
       "0     We stayed for a one night getaway with family ...  \n",
       "1     Triple A rate with upgrade to view room was le...  \n",
       "2     This comes a little late as I'm finally catchi...  \n",
       "3     The Omni Chicago really delivers on all fronts...  \n",
       "4     I asked for a high floor away from the elevato...  \n",
       "...                                                 ...  \n",
       "1595  Problems started when I booked the InterContin...  \n",
       "1596  The Amalfi Hotel has a beautiful website and i...  \n",
       "1597  The Intercontinental Chicago Magnificent Mile ...  \n",
       "1598  The Palmer House Hilton, while it looks good i...  \n",
       "1599  As a former Chicagoan, I'm appalled at the Ama...  \n",
       "\n",
       "[1600 rows x 4 columns]"
      ]
     },
     "execution_count": 488,
     "metadata": {},
     "output_type": "execute_result"
    }
   ],
   "source": [
    "df"
   ]
  },
  {
   "cell_type": "code",
   "execution_count": 489,
   "id": "492508d7",
   "metadata": {},
   "outputs": [],
   "source": [
    "import nltk\n",
    "from nltk.stem import PorterStemmer\n",
    "from nltk.tokenize import sent_tokenize, word_tokenize\n",
    "import re\n",
    "import string \n",
    "def text_cleaning(text):\n",
    "    '''\n",
    "        Make text lowercase, remove text in square brackets, remove link, remove special characters, \n",
    "        and remove words containing numbers.\n",
    "    '''\n",
    "    \n",
    "    text = text.lower()\n",
    "    text = re.sub('\\[.*?\\]','',text)\n",
    "    text = re.sub('\\\\W',\" \", text)\n",
    "    text = re.sub('https?://\\S+|www\\.\\S+','',text)\n",
    "    text = re.sub('<.*?>+','',text)\n",
    "    text = re.sub('[%s]' % re.escape(string.punctuation), '', text)\n",
    "    text = re.sub('\\n', '', text)\n",
    "    text = re.sub('\\w*\\d\\w*', '', text)\n",
    "    \n",
    "    return text\n"
   ]
  },
  {
   "cell_type": "code",
   "execution_count": 490,
   "id": "d32d39ea",
   "metadata": {},
   "outputs": [],
   "source": [
    "df['text']=df['text'].apply(text_cleaning)\n"
   ]
  },
  {
   "cell_type": "code",
   "execution_count": 491,
   "id": "60764074",
   "metadata": {},
   "outputs": [
    {
     "data": {
      "text/html": [
       "<div>\n",
       "<style scoped>\n",
       "    .dataframe tbody tr th:only-of-type {\n",
       "        vertical-align: middle;\n",
       "    }\n",
       "\n",
       "    .dataframe tbody tr th {\n",
       "        vertical-align: top;\n",
       "    }\n",
       "\n",
       "    .dataframe thead th {\n",
       "        text-align: right;\n",
       "    }\n",
       "</style>\n",
       "<table border=\"1\" class=\"dataframe\">\n",
       "  <thead>\n",
       "    <tr style=\"text-align: right;\">\n",
       "      <th></th>\n",
       "      <th>deceptive</th>\n",
       "      <th>polarity</th>\n",
       "      <th>source</th>\n",
       "      <th>text</th>\n",
       "    </tr>\n",
       "  </thead>\n",
       "  <tbody>\n",
       "    <tr>\n",
       "      <th>0</th>\n",
       "      <td>truthful</td>\n",
       "      <td>positive</td>\n",
       "      <td>TripAdvisor</td>\n",
       "      <td>we stayed for a one night getaway with family ...</td>\n",
       "    </tr>\n",
       "    <tr>\n",
       "      <th>1</th>\n",
       "      <td>truthful</td>\n",
       "      <td>positive</td>\n",
       "      <td>TripAdvisor</td>\n",
       "      <td>triple a rate with upgrade to view room was le...</td>\n",
       "    </tr>\n",
       "    <tr>\n",
       "      <th>2</th>\n",
       "      <td>truthful</td>\n",
       "      <td>positive</td>\n",
       "      <td>TripAdvisor</td>\n",
       "      <td>this comes a little late as i m finally catchi...</td>\n",
       "    </tr>\n",
       "    <tr>\n",
       "      <th>3</th>\n",
       "      <td>truthful</td>\n",
       "      <td>positive</td>\n",
       "      <td>TripAdvisor</td>\n",
       "      <td>the omni chicago really delivers on all fronts...</td>\n",
       "    </tr>\n",
       "    <tr>\n",
       "      <th>4</th>\n",
       "      <td>truthful</td>\n",
       "      <td>positive</td>\n",
       "      <td>TripAdvisor</td>\n",
       "      <td>i asked for a high floor away from the elevato...</td>\n",
       "    </tr>\n",
       "    <tr>\n",
       "      <th>...</th>\n",
       "      <td>...</td>\n",
       "      <td>...</td>\n",
       "      <td>...</td>\n",
       "      <td>...</td>\n",
       "    </tr>\n",
       "    <tr>\n",
       "      <th>1595</th>\n",
       "      <td>deceptive</td>\n",
       "      <td>negative</td>\n",
       "      <td>MTurk</td>\n",
       "      <td>problems started when i booked the intercontin...</td>\n",
       "    </tr>\n",
       "    <tr>\n",
       "      <th>1596</th>\n",
       "      <td>deceptive</td>\n",
       "      <td>negative</td>\n",
       "      <td>MTurk</td>\n",
       "      <td>the amalfi hotel has a beautiful website and i...</td>\n",
       "    </tr>\n",
       "    <tr>\n",
       "      <th>1597</th>\n",
       "      <td>deceptive</td>\n",
       "      <td>negative</td>\n",
       "      <td>MTurk</td>\n",
       "      <td>the intercontinental chicago magnificent mile ...</td>\n",
       "    </tr>\n",
       "    <tr>\n",
       "      <th>1598</th>\n",
       "      <td>deceptive</td>\n",
       "      <td>negative</td>\n",
       "      <td>MTurk</td>\n",
       "      <td>the palmer house hilton  while it looks good i...</td>\n",
       "    </tr>\n",
       "    <tr>\n",
       "      <th>1599</th>\n",
       "      <td>deceptive</td>\n",
       "      <td>negative</td>\n",
       "      <td>MTurk</td>\n",
       "      <td>as a former chicagoan  i m appalled at the ama...</td>\n",
       "    </tr>\n",
       "  </tbody>\n",
       "</table>\n",
       "<p>1600 rows × 4 columns</p>\n",
       "</div>"
      ],
      "text/plain": [
       "      deceptive  polarity       source  \\\n",
       "0      truthful  positive  TripAdvisor   \n",
       "1      truthful  positive  TripAdvisor   \n",
       "2      truthful  positive  TripAdvisor   \n",
       "3      truthful  positive  TripAdvisor   \n",
       "4      truthful  positive  TripAdvisor   \n",
       "...         ...       ...          ...   \n",
       "1595  deceptive  negative        MTurk   \n",
       "1596  deceptive  negative        MTurk   \n",
       "1597  deceptive  negative        MTurk   \n",
       "1598  deceptive  negative        MTurk   \n",
       "1599  deceptive  negative        MTurk   \n",
       "\n",
       "                                                   text  \n",
       "0     we stayed for a one night getaway with family ...  \n",
       "1     triple a rate with upgrade to view room was le...  \n",
       "2     this comes a little late as i m finally catchi...  \n",
       "3     the omni chicago really delivers on all fronts...  \n",
       "4     i asked for a high floor away from the elevato...  \n",
       "...                                                 ...  \n",
       "1595  problems started when i booked the intercontin...  \n",
       "1596  the amalfi hotel has a beautiful website and i...  \n",
       "1597  the intercontinental chicago magnificent mile ...  \n",
       "1598  the palmer house hilton  while it looks good i...  \n",
       "1599  as a former chicagoan  i m appalled at the ama...  \n",
       "\n",
       "[1600 rows x 4 columns]"
      ]
     },
     "execution_count": 491,
     "metadata": {},
     "output_type": "execute_result"
    }
   ],
   "source": [
    "df"
   ]
  },
  {
   "cell_type": "code",
   "execution_count": 492,
   "id": "e91971f6",
   "metadata": {},
   "outputs": [
    {
     "data": {
      "text/html": [
       "<div>\n",
       "<style scoped>\n",
       "    .dataframe tbody tr th:only-of-type {\n",
       "        vertical-align: middle;\n",
       "    }\n",
       "\n",
       "    .dataframe tbody tr th {\n",
       "        vertical-align: top;\n",
       "    }\n",
       "\n",
       "    .dataframe thead th {\n",
       "        text-align: right;\n",
       "    }\n",
       "</style>\n",
       "<table border=\"1\" class=\"dataframe\">\n",
       "  <thead>\n",
       "    <tr style=\"text-align: right;\">\n",
       "      <th></th>\n",
       "      <th>deceptive</th>\n",
       "      <th>polarity</th>\n",
       "      <th>source</th>\n",
       "      <th>text</th>\n",
       "    </tr>\n",
       "  </thead>\n",
       "  <tbody>\n",
       "    <tr>\n",
       "      <th>0</th>\n",
       "      <td>truthful</td>\n",
       "      <td>positive</td>\n",
       "      <td>TripAdvisor</td>\n",
       "      <td>we stayed for a one night getaway with family ...</td>\n",
       "    </tr>\n",
       "    <tr>\n",
       "      <th>1</th>\n",
       "      <td>truthful</td>\n",
       "      <td>positive</td>\n",
       "      <td>TripAdvisor</td>\n",
       "      <td>triple a rate with upgrade to view room was le...</td>\n",
       "    </tr>\n",
       "    <tr>\n",
       "      <th>2</th>\n",
       "      <td>truthful</td>\n",
       "      <td>positive</td>\n",
       "      <td>TripAdvisor</td>\n",
       "      <td>this comes a little late as i m finally catchi...</td>\n",
       "    </tr>\n",
       "    <tr>\n",
       "      <th>3</th>\n",
       "      <td>truthful</td>\n",
       "      <td>positive</td>\n",
       "      <td>TripAdvisor</td>\n",
       "      <td>the omni chicago really delivers on all fronts...</td>\n",
       "    </tr>\n",
       "    <tr>\n",
       "      <th>4</th>\n",
       "      <td>truthful</td>\n",
       "      <td>positive</td>\n",
       "      <td>TripAdvisor</td>\n",
       "      <td>i asked for a high floor away from the elevato...</td>\n",
       "    </tr>\n",
       "    <tr>\n",
       "      <th>...</th>\n",
       "      <td>...</td>\n",
       "      <td>...</td>\n",
       "      <td>...</td>\n",
       "      <td>...</td>\n",
       "    </tr>\n",
       "    <tr>\n",
       "      <th>1595</th>\n",
       "      <td>deceptive</td>\n",
       "      <td>negative</td>\n",
       "      <td>MTurk</td>\n",
       "      <td>problems started when i booked the intercontin...</td>\n",
       "    </tr>\n",
       "    <tr>\n",
       "      <th>1596</th>\n",
       "      <td>deceptive</td>\n",
       "      <td>negative</td>\n",
       "      <td>MTurk</td>\n",
       "      <td>the amalfi hotel has a beautiful website and i...</td>\n",
       "    </tr>\n",
       "    <tr>\n",
       "      <th>1597</th>\n",
       "      <td>deceptive</td>\n",
       "      <td>negative</td>\n",
       "      <td>MTurk</td>\n",
       "      <td>the intercontinental chicago magnificent mile ...</td>\n",
       "    </tr>\n",
       "    <tr>\n",
       "      <th>1598</th>\n",
       "      <td>deceptive</td>\n",
       "      <td>negative</td>\n",
       "      <td>MTurk</td>\n",
       "      <td>the palmer house hilton  while it looks good i...</td>\n",
       "    </tr>\n",
       "    <tr>\n",
       "      <th>1599</th>\n",
       "      <td>deceptive</td>\n",
       "      <td>negative</td>\n",
       "      <td>MTurk</td>\n",
       "      <td>as a former chicagoan  i m appalled at the ama...</td>\n",
       "    </tr>\n",
       "  </tbody>\n",
       "</table>\n",
       "<p>1600 rows × 4 columns</p>\n",
       "</div>"
      ],
      "text/plain": [
       "      deceptive  polarity       source  \\\n",
       "0      truthful  positive  TripAdvisor   \n",
       "1      truthful  positive  TripAdvisor   \n",
       "2      truthful  positive  TripAdvisor   \n",
       "3      truthful  positive  TripAdvisor   \n",
       "4      truthful  positive  TripAdvisor   \n",
       "...         ...       ...          ...   \n",
       "1595  deceptive  negative        MTurk   \n",
       "1596  deceptive  negative        MTurk   \n",
       "1597  deceptive  negative        MTurk   \n",
       "1598  deceptive  negative        MTurk   \n",
       "1599  deceptive  negative        MTurk   \n",
       "\n",
       "                                                   text  \n",
       "0     we stayed for a one night getaway with family ...  \n",
       "1     triple a rate with upgrade to view room was le...  \n",
       "2     this comes a little late as i m finally catchi...  \n",
       "3     the omni chicago really delivers on all fronts...  \n",
       "4     i asked for a high floor away from the elevato...  \n",
       "...                                                 ...  \n",
       "1595  problems started when i booked the intercontin...  \n",
       "1596  the amalfi hotel has a beautiful website and i...  \n",
       "1597  the intercontinental chicago magnificent mile ...  \n",
       "1598  the palmer house hilton  while it looks good i...  \n",
       "1599  as a former chicagoan  i m appalled at the ama...  \n",
       "\n",
       "[1600 rows x 4 columns]"
      ]
     },
     "execution_count": 492,
     "metadata": {},
     "output_type": "execute_result"
    }
   ],
   "source": [
    "df"
   ]
  },
  {
   "cell_type": "code",
   "execution_count": 493,
   "id": "38b86f28",
   "metadata": {},
   "outputs": [
    {
     "data": {
      "text/plain": [
       "array(['truthful', 'deceptive'], dtype=object)"
      ]
     },
     "execution_count": 493,
     "metadata": {},
     "output_type": "execute_result"
    }
   ],
   "source": [
    "df['deceptive'].unique()"
   ]
  },
  {
   "cell_type": "code",
   "execution_count": 494,
   "id": "e4f2fcf3",
   "metadata": {},
   "outputs": [],
   "source": [
    "sentences=df['text'].values\n",
    "y=df['deceptive'].values\n"
   ]
  },
  {
   "cell_type": "code",
   "execution_count": 495,
   "id": "aa9d7931",
   "metadata": {},
   "outputs": [],
   "source": [
    "from sklearn.preprocessing import LabelEncoder\n",
    "from sklearn.model_selection import train_test_split\n",
    "\n",
    "le = LabelEncoder()\n",
    "y = le.fit_transform(y)"
   ]
  },
  {
   "cell_type": "code",
   "execution_count": 496,
   "id": "8b788ebc",
   "metadata": {},
   "outputs": [],
   "source": [
    "from sklearn.model_selection import train_test_split\n",
    "from keras.preprocessing.text import Tokenizer\n",
    "from tensorflow.keras.preprocessing.sequence import pad_sequences\n",
    "\n",
    "\n",
    "\n",
    "sentences_train, sentences_test, y_train, y_test = train_test_split(sentences,y, test_size=0.2, random_state=1000)\n",
    "\n",
    "tokenizer = Tokenizer(num_words=5000)\n",
    "tokenizer.fit_on_texts(sentences_train)\n",
    "\n",
    "x_train = tokenizer.texts_to_sequences(sentences_train)\n",
    "x_test = tokenizer.texts_to_sequences(sentences_test)\n",
    "\n",
    "# Adding 1 because of reserved 0 index\n",
    "vocab_size = len(tokenizer.word_index) + 1\n",
    "maxlen = 100\n",
    "\n",
    "x_train = pad_sequences(x_train, padding = 'post', maxlen=maxlen)\n",
    "x_test = pad_sequences(x_test, padding = 'post', maxlen=maxlen)\n"
   ]
  },
  {
   "cell_type": "code",
   "execution_count": 497,
   "id": "d2955858",
   "metadata": {},
   "outputs": [
    {
     "data": {
      "text/plain": [
       "array([[   1,  189,  258, ...,    0,    0,    0],\n",
       "       [   7,    1,  805, ...,   94,   15,   39],\n",
       "       [ 670,   70,    1, ...,    1,  140,  918],\n",
       "       ...,\n",
       "       [  10,   32,   48, ...,   15,   20,    8],\n",
       "       [  15,   46,    8, ...,   34,   15,  368],\n",
       "       [ 156,    1,   99, ...,   98, 2090,  119]], dtype=int32)"
      ]
     },
     "execution_count": 497,
     "metadata": {},
     "output_type": "execute_result"
    }
   ],
   "source": [
    "x_train"
   ]
  },
  {
   "cell_type": "code",
   "execution_count": 498,
   "id": "b80124f1",
   "metadata": {},
   "outputs": [
    {
     "data": {
      "text/plain": [
       "(1280, 100)"
      ]
     },
     "execution_count": 498,
     "metadata": {},
     "output_type": "execute_result"
    }
   ],
   "source": [
    "x_train.shape"
   ]
  },
  {
   "cell_type": "code",
   "execution_count": 499,
   "id": "caceb18f",
   "metadata": {},
   "outputs": [
    {
     "data": {
      "text/plain": [
       "array([[   1,    8,   68, ...,   14,   96,  215],\n",
       "       [   6,  978,    2, ...,   92, 2146,   29],\n",
       "       [  22,   14,  165, ...,    7,    1,  702],\n",
       "       ...,\n",
       "       [  14,  175,    2, ...,   71,   63,    0],\n",
       "       [  24,   36, 1454, ...,   57,  257,   63],\n",
       "       [  96,   92,   26, ...,  366,  807,  123]], dtype=int32)"
      ]
     },
     "execution_count": 499,
     "metadata": {},
     "output_type": "execute_result"
    }
   ],
   "source": [
    "x_test"
   ]
  },
  {
   "cell_type": "code",
   "execution_count": 500,
   "id": "33565412",
   "metadata": {},
   "outputs": [
    {
     "name": "stdout",
     "output_type": "stream",
     "text": [
      "Epoch 1/50\n",
      "128/128 [==============================] - 2s 10ms/step - loss: 0.8664 - accuracy: 0.5305 - val_loss: 0.7866 - val_accuracy: 0.5125\n",
      "Epoch 2/50\n",
      "128/128 [==============================] - 1s 9ms/step - loss: 0.7390 - accuracy: 0.6477 - val_loss: 0.7214 - val_accuracy: 0.6187\n",
      "Epoch 3/50\n",
      "128/128 [==============================] - 1s 9ms/step - loss: 0.6693 - accuracy: 0.7234 - val_loss: 0.6631 - val_accuracy: 0.6938\n",
      "Epoch 4/50\n",
      "128/128 [==============================] - 1s 9ms/step - loss: 0.5256 - accuracy: 0.8406 - val_loss: 0.6153 - val_accuracy: 0.7500\n",
      "Epoch 5/50\n",
      "128/128 [==============================] - 1s 9ms/step - loss: 0.3748 - accuracy: 0.9211 - val_loss: 0.6186 - val_accuracy: 0.7812\n",
      "Epoch 6/50\n",
      "128/128 [==============================] - 1s 9ms/step - loss: 0.2849 - accuracy: 0.9695 - val_loss: 0.6468 - val_accuracy: 0.7688\n",
      "Epoch 7/50\n",
      "128/128 [==============================] - 1s 9ms/step - loss: 0.2332 - accuracy: 0.9922 - val_loss: 0.6544 - val_accuracy: 0.7656\n",
      "Epoch 8/50\n",
      "128/128 [==============================] - 1s 9ms/step - loss: 0.2032 - accuracy: 0.9984 - val_loss: 0.6624 - val_accuracy: 0.7781\n",
      "Epoch 9/50\n",
      "128/128 [==============================] - 1s 9ms/step - loss: 0.1909 - accuracy: 0.9977 - val_loss: 0.6754 - val_accuracy: 0.7719\n",
      "Epoch 10/50\n",
      "128/128 [==============================] - 1s 9ms/step - loss: 0.1801 - accuracy: 1.0000 - val_loss: 0.6586 - val_accuracy: 0.7656\n",
      "Epoch 11/50\n",
      "128/128 [==============================] - 1s 9ms/step - loss: 0.1681 - accuracy: 1.0000 - val_loss: 0.6583 - val_accuracy: 0.7719\n",
      "Epoch 12/50\n",
      "128/128 [==============================] - 1s 9ms/step - loss: 0.1633 - accuracy: 1.0000 - val_loss: 0.6540 - val_accuracy: 0.7656\n",
      "Epoch 13/50\n",
      "128/128 [==============================] - 1s 9ms/step - loss: 0.1557 - accuracy: 1.0000 - val_loss: 0.6528 - val_accuracy: 0.7750\n",
      "Epoch 14/50\n",
      "128/128 [==============================] - 1s 9ms/step - loss: 0.1523 - accuracy: 0.9992 - val_loss: 0.6609 - val_accuracy: 0.7594\n",
      "Epoch 15/50\n",
      "128/128 [==============================] - 1s 9ms/step - loss: 0.1490 - accuracy: 0.9992 - val_loss: 0.6639 - val_accuracy: 0.7531\n",
      "Epoch 16/50\n",
      "128/128 [==============================] - 1s 9ms/step - loss: 0.1487 - accuracy: 0.9992 - val_loss: 0.6628 - val_accuracy: 0.7688\n",
      "Epoch 17/50\n",
      "128/128 [==============================] - 1s 9ms/step - loss: 0.1427 - accuracy: 0.9992 - val_loss: 0.6528 - val_accuracy: 0.7688\n",
      "Epoch 18/50\n",
      "128/128 [==============================] - 1s 9ms/step - loss: 0.1414 - accuracy: 1.0000 - val_loss: 0.6539 - val_accuracy: 0.7656\n",
      "Epoch 19/50\n",
      "128/128 [==============================] - 1s 9ms/step - loss: 0.1353 - accuracy: 0.9992 - val_loss: 0.6511 - val_accuracy: 0.7688\n",
      "Epoch 20/50\n",
      "128/128 [==============================] - 1s 9ms/step - loss: 0.1319 - accuracy: 1.0000 - val_loss: 0.6560 - val_accuracy: 0.7656\n",
      "Epoch 21/50\n",
      "128/128 [==============================] - 1s 9ms/step - loss: 0.1292 - accuracy: 1.0000 - val_loss: 0.6613 - val_accuracy: 0.7625\n",
      "Epoch 22/50\n",
      "128/128 [==============================] - 1s 9ms/step - loss: 0.1275 - accuracy: 1.0000 - val_loss: 0.6655 - val_accuracy: 0.7594\n",
      "Epoch 23/50\n",
      "128/128 [==============================] - 1s 9ms/step - loss: 0.1234 - accuracy: 1.0000 - val_loss: 0.6399 - val_accuracy: 0.7563\n",
      "Epoch 24/50\n",
      "128/128 [==============================] - 1s 9ms/step - loss: 0.1213 - accuracy: 1.0000 - val_loss: 0.6564 - val_accuracy: 0.7656\n",
      "Epoch 25/50\n",
      "128/128 [==============================] - 1s 9ms/step - loss: 0.1211 - accuracy: 0.9992 - val_loss: 0.6576 - val_accuracy: 0.7563\n",
      "Epoch 26/50\n",
      "128/128 [==============================] - 1s 9ms/step - loss: 0.1176 - accuracy: 1.0000 - val_loss: 0.6448 - val_accuracy: 0.7656\n",
      "Epoch 27/50\n",
      "128/128 [==============================] - 1s 9ms/step - loss: 0.1140 - accuracy: 1.0000 - val_loss: 0.6367 - val_accuracy: 0.7688\n",
      "Epoch 28/50\n",
      "128/128 [==============================] - 1s 9ms/step - loss: 0.1155 - accuracy: 1.0000 - val_loss: 0.6475 - val_accuracy: 0.7688\n",
      "Epoch 29/50\n",
      "128/128 [==============================] - 1s 9ms/step - loss: 0.1105 - accuracy: 1.0000 - val_loss: 0.6393 - val_accuracy: 0.7656\n",
      "Epoch 30/50\n",
      "128/128 [==============================] - 1s 9ms/step - loss: 0.1132 - accuracy: 0.9984 - val_loss: 0.6482 - val_accuracy: 0.7656\n",
      "Epoch 31/50\n",
      "128/128 [==============================] - 1s 9ms/step - loss: 0.1095 - accuracy: 1.0000 - val_loss: 0.6499 - val_accuracy: 0.7563\n",
      "Epoch 32/50\n",
      "128/128 [==============================] - 1s 9ms/step - loss: 0.1047 - accuracy: 1.0000 - val_loss: 0.6493 - val_accuracy: 0.7500\n",
      "Epoch 33/50\n",
      "128/128 [==============================] - 1s 9ms/step - loss: 0.1083 - accuracy: 0.9992 - val_loss: 0.6593 - val_accuracy: 0.7594\n",
      "Epoch 34/50\n",
      "128/128 [==============================] - 1s 9ms/step - loss: 0.1034 - accuracy: 1.0000 - val_loss: 0.6557 - val_accuracy: 0.7625\n",
      "Epoch 35/50\n",
      "128/128 [==============================] - 1s 9ms/step - loss: 0.1000 - accuracy: 1.0000 - val_loss: 0.6443 - val_accuracy: 0.7406\n",
      "Epoch 36/50\n",
      "128/128 [==============================] - 1s 9ms/step - loss: 0.1035 - accuracy: 0.9992 - val_loss: 0.6698 - val_accuracy: 0.7594\n",
      "Epoch 37/50\n",
      "128/128 [==============================] - 1s 9ms/step - loss: 0.1009 - accuracy: 0.9992 - val_loss: 0.6761 - val_accuracy: 0.7437\n",
      "Epoch 38/50\n",
      "128/128 [==============================] - 1s 9ms/step - loss: 0.0989 - accuracy: 1.0000 - val_loss: 0.6390 - val_accuracy: 0.7563\n",
      "Epoch 39/50\n",
      "128/128 [==============================] - 1s 9ms/step - loss: 0.0971 - accuracy: 1.0000 - val_loss: 0.6564 - val_accuracy: 0.7500\n",
      "Epoch 40/50\n",
      "128/128 [==============================] - 1s 9ms/step - loss: 0.0958 - accuracy: 1.0000 - val_loss: 0.6502 - val_accuracy: 0.7500\n",
      "Epoch 41/50\n",
      "128/128 [==============================] - 1s 9ms/step - loss: 0.0950 - accuracy: 0.9992 - val_loss: 0.6565 - val_accuracy: 0.7500\n",
      "Epoch 42/50\n",
      "128/128 [==============================] - 1s 9ms/step - loss: 0.0943 - accuracy: 1.0000 - val_loss: 0.6498 - val_accuracy: 0.7625\n",
      "Epoch 43/50\n",
      "128/128 [==============================] - 1s 9ms/step - loss: 0.0943 - accuracy: 0.9984 - val_loss: 0.6347 - val_accuracy: 0.7594\n",
      "Epoch 44/50\n",
      "128/128 [==============================] - 1s 9ms/step - loss: 0.0905 - accuracy: 1.0000 - val_loss: 0.6310 - val_accuracy: 0.7656\n",
      "Epoch 45/50\n",
      "128/128 [==============================] - 1s 9ms/step - loss: 0.0946 - accuracy: 0.9977 - val_loss: 0.6409 - val_accuracy: 0.7594\n",
      "Epoch 46/50\n",
      "128/128 [==============================] - 1s 9ms/step - loss: 0.0905 - accuracy: 0.9992 - val_loss: 0.6424 - val_accuracy: 0.7563\n",
      "Epoch 47/50\n",
      "128/128 [==============================] - 1s 9ms/step - loss: 0.0919 - accuracy: 0.9977 - val_loss: 0.6417 - val_accuracy: 0.7531\n",
      "Epoch 48/50\n",
      "128/128 [==============================] - 1s 9ms/step - loss: 0.0889 - accuracy: 1.0000 - val_loss: 0.6486 - val_accuracy: 0.7344\n",
      "Epoch 49/50\n",
      "128/128 [==============================] - 1s 9ms/step - loss: 0.0861 - accuracy: 0.9992 - val_loss: 0.6462 - val_accuracy: 0.7594\n",
      "Epoch 50/50\n",
      "128/128 [==============================] - 1s 9ms/step - loss: 0.0845 - accuracy: 1.0000 - val_loss: 0.6359 - val_accuracy: 0.7563\n"
     ]
    }
   ],
   "source": [
    "from keras.models import Sequential\n",
    "from keras import layers\n",
    "import tensorflow as tf\n",
    "from tensorflow.keras.layers import Embedding, Conv1D, LSTM, Dense\n",
    "\n",
    "embedding_dim = 100\n",
    "from tensorflow.keras.callbacks import EarlyStopping\n",
    "reg = tf.keras.regularizers.l1(0.001)\n",
    "early_stop = EarlyStopping(monitor='val_loss', patience=20)\n",
    "\n",
    "model = Sequential()\n",
    "\n",
    "model.add(layers.Embedding(vocab_size, embedding_dim, input_length=maxlen))\n",
    "model.add(layers.Conv1D(256, 10, padding='valid', strides = 2, activation='relu', kernel_regularizer=tf.keras.regularizers.l2(0.001)))\n",
    "model.add(layers.GlobalMaxPooling1D())\n",
    "# model.add(layers.Conv1D(256, 10, padding='valid', strides = 2, activation='relu'))\n",
    "# model.add(layers.GlobalMaxPooling1D())\n",
    "\n",
    "# model.add(layers.Dense(250, activation='relu'))\n",
    "# model.add(layers.Dense(250)\n",
    "model.add(layers.Dropout(rate = 0.5))\n",
    "# model.add(layers.LSTM(128))\n",
    "\n",
    "# model.add(Activation('relu'))\n",
    "model.add(layers.Dense(1, activation='sigmoid', kernel_regularizer=tf.keras.regularizers.l1(0.007)))\n",
    "model.compile(optimizer='adam',\n",
    "              loss='binary_crossentropy',\n",
    "              metrics=['accuracy'])\n",
    "history = model.fit(x_train, y_train,\n",
    "                    epochs=50,\n",
    "                    validation_data=(x_test, y_test),\n",
    "                    batch_size=10)"
   ]
  },
  {
   "cell_type": "code",
   "execution_count": 501,
   "id": "292ff78c",
   "metadata": {},
   "outputs": [],
   "source": [
    "# from keras.models import Sequential\n",
    "# from keras import layers\n",
    "\n",
    "# embedding_dims = 100\n",
    "# batch_size = 32\n",
    "# filters = 250\n",
    "# kernel_size = 3\n",
    "# hidden_dims = 250\n",
    "# epochs = 50\n",
    "\n",
    "\n",
    "\n",
    "# model = Sequential()\n",
    "# model.add(layers.Conv1D(filters,kernel_size,padding = 'valid' , activation = 'relu',strides = 1 , \n",
    "#                  input_shape = (maxlen,embedding_dims)))\n",
    "# model.add(layers.GlobalMaxPooling1D())\n",
    "# model.add(layers.Dense(hidden_dims))\n",
    "# model.add(layers.Dropout(0.2))\n",
    "# model.add(layers.Activation('relu'))\n",
    "# model.add(layers.Dense(1))\n",
    "# model.add(layers.Activation('sigmoid'))\n",
    "\n",
    "# model.compile(loss = 'binary_crossentropy',optimizer = 'adam', metrics = ['accuracy'])\n",
    "# model.fit(x_train,y_train,batch_size = batch_size,epochs = epochs , validation_data = (x_test,y_test))\n",
    "# # model = Sequential()\n",
    "# # model.add(layers.Embedding(vocab_size, embedding_dim, input_length=maxlen))\n",
    "# # model.add(layers.Conv1D(256, 5, activation='relu'))\n",
    "# # model.add(layers.GlobalMaxPooling1D())\n",
    "# # model.add(layers.Dense(100, activation='relu'))\n",
    "# # model.add(layers.Dense(1, activation='sigmoid'))\n",
    "# # model.compile(optimizer='adam',\n",
    "# #               loss='binary_crossentropy',\n",
    "# #               metrics=['accuracy'])\n",
    "# # history = model.fit(x_train, y_train,\n",
    "# #                     epochs=50,\n",
    "# #                     validation_data=(x_test, y_test),\n",
    "# #                     batch_size=10)"
   ]
  },
  {
   "cell_type": "markdown",
   "id": "1852d99e",
   "metadata": {},
   "source": [
    "Epochs = 40-60"
   ]
  },
  {
   "cell_type": "code",
   "execution_count": 502,
   "id": "fd29a05d",
   "metadata": {},
   "outputs": [
    {
     "data": {
      "image/png": "[encoded data removed]",
      "text/plain": [
       "<Figure size 640x480 with 1 Axes>"
      ]
     },
     "metadata": {},
     "output_type": "display_data"
    },
    {
     "data": {
      "image/png": "[encoded data removed]",
      "text/plain": [
       "<Figure size 640x480 with 1 Axes>"
      ]
     },
     "metadata": {},
     "output_type": "display_data"
    }
   ],
   "source": [
    "def show_train_history(train_history,train,validation):\n",
    "    plt.plot(train_history.history[train])\n",
    "    plt.plot(train_history.history[validation])\n",
    "    plt.title('Train History')\n",
    "    plt.ylabel(train)\n",
    "    plt.xlabel('Epoch')\n",
    "    plt.legend(['train', 'validation'], loc='upper left')\n",
    "    plt.show()\n",
    "    \n",
    "show_train_history(history,'accuracy','val_accuracy')\n",
    "show_train_history(history,'loss','val_loss')"
   ]
  },
  {
   "cell_type": "code",
   "execution_count": 503,
   "id": "5cd3730d",
   "metadata": {},
   "outputs": [
    {
     "name": "stdout",
     "output_type": "stream",
     "text": [
      "Training loss \t 8.44966545701027\n",
      "Training accuracy  100.0\n",
      "Validation loss  63.59378099441528\n",
      "Validation accuracy  75.62500238418579\n"
     ]
    }
   ],
   "source": [
    "print('Training loss \\t', history.history['loss'][-1]*100)\n",
    "print('Training accuracy ',  history.history['accuracy'][-1]*100)\n",
    "print('Validation loss ', history.history['val_loss'][-1]*100)\n",
    "print('Validation accuracy ',  history.history['val_accuracy'][-1]*100)"
   ]
  },
  {
   "cell_type": "code",
   "execution_count": 504,
   "id": "81864ee8",
   "metadata": {},
   "outputs": [
    {
     "name": "stdout",
     "output_type": "stream",
     "text": [
      "1/1 [==============================] - 0s 45ms/step\n",
      "0.0\n"
     ]
    }
   ],
   "source": [
    "new_text = \"I love this hotel. The staff is very friendly. I don't think there is any places as good as this\"\n",
    "new_sequence = tokenizer.texts_to_sequences([new_text])\n",
    "new_data = pad_sequences(new_sequence, maxlen=maxlen)\n",
    "prediction = model.predict(new_data)\n",
    "prediction_label = np.round(prediction[0][0])\n",
    "print(prediction_label)"
   ]
  },
  {
   "cell_type": "code",
   "execution_count": 505,
   "id": "284b04c7",
   "metadata": {},
   "outputs": [
    {
     "name": "stdout",
     "output_type": "stream",
     "text": [
      "1/1 [==============================] - 0s 15ms/step\n",
      "0.0\n"
     ]
    }
   ],
   "source": [
    "new_text = \"During my holiday at Bali, I stayed at Hilton hotel. We arrived there at 12am. There was no staff. No one is coming to help us. We have to carry our luggae to the room. There was monkey everywhere. My girlfriend is afraid of monkey and she's not coming to the room. She has a terrible experience. So am I. If only we can get rid of the monkey and the staff is helpful, that would be nice. Why? because the place itself is big and the room is comfortable. The environment is good except the monkey. The service is kind of not so good.\"\n",
    "new_sequence = tokenizer.texts_to_sequences([new_text])\n",
    "new_data = pad_sequences(new_sequence, maxlen=maxlen)\n",
    "prediction = model.predict(new_data)\n",
    "prediction_label = np.round(prediction[0][0])\n",
    "print(prediction_label)"
   ]
  },
  {
   "cell_type": "code",
   "execution_count": 506,
   "id": "957ccc6a",
   "metadata": {},
   "outputs": [
    {
     "name": "stdout",
     "output_type": "stream",
     "text": [
      "1/1 [==============================] - 0s 15ms/step\n",
      "0.0\n"
     ]
    }
   ],
   "source": [
    "new_text = \"We planned to stay for 5 nights on a family trip. I booked this hotel because of the expected value for a suite as well as the free breakfast - get a quick bite, then head out for the day to do normal tourist stuff. Well, our stay here lasted 1 night and we quickly, and thankfully, switched to a different hotel for our last 4 nights. The room was dirty. When we opened the sofabed, the sheets were filthy and there was a mess of dirt and crumbs that fell out. Ridiculous considering this is a suite hotel where the sofabeds are likely used, and theoretically cleaned, a lot. Extra blankets were also dirty and bathrooms weren't much better. Temperature control in the room was imprecise - minor inconvenience but without clean blankets on our only night, it made for a cold stay. If you like to eat for free (they have free breakfasts and dinner on certain nights) and don't care to eat the great food Chicago has to offer, I guess some may find this place tolerable. But we found the buffet no better than average and felt like we were at a Golden Corral. The only thing this hotel really has going for it is location but there are other options in this area (we switched to The James and had a great experience). I couldn't be paid to stay here again. I'm shocked by the high overall rating given our experience.\"\n",
    "new_sequence = tokenizer.texts_to_sequences([new_text])\n",
    "new_data = pad_sequences(new_sequence, maxlen=maxlen)\n",
    "prediction = model.predict(new_data)\n",
    "prediction_label = np.round(prediction[0][0])\n",
    "print(prediction_label)"
   ]
  },
  {
   "cell_type": "code",
   "execution_count": 507,
   "id": "48428c4a",
   "metadata": {},
   "outputs": [
    {
     "name": "stdout",
     "output_type": "stream",
     "text": [
      "1/1 [==============================] - 0s 16ms/step\n",
      "0.0\n"
     ]
    }
   ],
   "source": [
    "new_text = \"I had to do a little research on the Hilton brand because it's not one that I was familiar with. I wanted to know what this hotel chain's reputation was, so I did a little research online and found out that it's pretty well-known as a chain that people book into for their business trips and vacations. I also found out that this hotel chain is pretty well-reviewed by people who have stayed in their hotels.\"\n",
    "new_sequence = tokenizer.texts_to_sequences([new_text])\n",
    "new_data = pad_sequences(new_sequence, maxlen=maxlen)\n",
    "prediction = model.predict(new_data)\n",
    "prediction_label = np.round(prediction[0][0])\n",
    "print(prediction_label)"
   ]
  },
  {
   "cell_type": "code",
   "execution_count": 508,
   "id": "45e9aed1",
   "metadata": {},
   "outputs": [
    {
     "name": "stdout",
     "output_type": "stream",
     "text": [
      "10/10 [==============================] - 0s 3ms/step\n",
      "              precision    recall  f1-score   support\n",
      "\n",
      "           0       0.73      0.80      0.76       157\n",
      "           1       0.79      0.71      0.75       163\n",
      "\n",
      "    accuracy                           0.76       320\n",
      "   macro avg       0.76      0.76      0.76       320\n",
      "weighted avg       0.76      0.76      0.76       320\n",
      "\n"
     ]
    }
   ],
   "source": [
    "from sklearn.metrics import classification_report\n",
    "\n",
    "y_pred = np.round(model.predict(x_test).ravel())\n",
    "print (classification_report(y_test, y_pred))\n"
   ]
  },
  {
   "cell_type": "code",
   "execution_count": 509,
   "id": "945a6dea",
   "metadata": {},
   "outputs": [
    {
     "data": {
      "text/html": [
       "<div>\n",
       "<style scoped>\n",
       "    .dataframe tbody tr th:only-of-type {\n",
       "        vertical-align: middle;\n",
       "    }\n",
       "\n",
       "    .dataframe tbody tr th {\n",
       "        vertical-align: top;\n",
       "    }\n",
       "\n",
       "    .dataframe thead th {\n",
       "        text-align: right;\n",
       "    }\n",
       "</style>\n",
       "<table border=\"1\" class=\"dataframe\">\n",
       "  <thead>\n",
       "    <tr style=\"text-align: right;\">\n",
       "      <th></th>\n",
       "      <th>Test</th>\n",
       "      <th>Pred</th>\n",
       "      <th>True_label</th>\n",
       "    </tr>\n",
       "  </thead>\n",
       "  <tbody>\n",
       "    <tr>\n",
       "      <th>0</th>\n",
       "      <td>after some deliberation i booked the sofitel w...</td>\n",
       "      <td>1.0</td>\n",
       "      <td>1</td>\n",
       "    </tr>\n",
       "    <tr>\n",
       "      <th>1</th>\n",
       "      <td>i was very disappointed with this hotel  the f...</td>\n",
       "      <td>0.0</td>\n",
       "      <td>0</td>\n",
       "    </tr>\n",
       "    <tr>\n",
       "      <th>2</th>\n",
       "      <td>i choose the homewood suites in downtown chica...</td>\n",
       "      <td>0.0</td>\n",
       "      <td>1</td>\n",
       "    </tr>\n",
       "    <tr>\n",
       "      <th>3</th>\n",
       "      <td>we absolutely loved the knickerbocker  now  if...</td>\n",
       "      <td>1.0</td>\n",
       "      <td>1</td>\n",
       "    </tr>\n",
       "    <tr>\n",
       "      <th>4</th>\n",
       "      <td>as a frequent traveler for both business and p...</td>\n",
       "      <td>0.0</td>\n",
       "      <td>0</td>\n",
       "    </tr>\n",
       "    <tr>\n",
       "      <th>...</th>\n",
       "      <td>...</td>\n",
       "      <td>...</td>\n",
       "      <td>...</td>\n",
       "    </tr>\n",
       "    <tr>\n",
       "      <th>315</th>\n",
       "      <td>the millennium knickerbocker hotel has seen be...</td>\n",
       "      <td>0.0</td>\n",
       "      <td>0</td>\n",
       "    </tr>\n",
       "    <tr>\n",
       "      <th>316</th>\n",
       "      <td>we experienced bed bugs in our room while stay...</td>\n",
       "      <td>0.0</td>\n",
       "      <td>1</td>\n",
       "    </tr>\n",
       "    <tr>\n",
       "      <th>317</th>\n",
       "      <td>my husband and i were in the fairmont chicago ...</td>\n",
       "      <td>0.0</td>\n",
       "      <td>1</td>\n",
       "    </tr>\n",
       "    <tr>\n",
       "      <th>318</th>\n",
       "      <td>i was in chicago from september   for a conven...</td>\n",
       "      <td>1.0</td>\n",
       "      <td>1</td>\n",
       "    </tr>\n",
       "    <tr>\n",
       "      <th>319</th>\n",
       "      <td>after reading all the lukewarm reviews for thi...</td>\n",
       "      <td>1.0</td>\n",
       "      <td>1</td>\n",
       "    </tr>\n",
       "  </tbody>\n",
       "</table>\n",
       "<p>320 rows × 3 columns</p>\n",
       "</div>"
      ],
      "text/plain": [
       "                                                  Test  Pred  True_label\n",
       "0    after some deliberation i booked the sofitel w...   1.0           1\n",
       "1    i was very disappointed with this hotel  the f...   0.0           0\n",
       "2    i choose the homewood suites in downtown chica...   0.0           1\n",
       "3    we absolutely loved the knickerbocker  now  if...   1.0           1\n",
       "4    as a frequent traveler for both business and p...   0.0           0\n",
       "..                                                 ...   ...         ...\n",
       "315  the millennium knickerbocker hotel has seen be...   0.0           0\n",
       "316  we experienced bed bugs in our room while stay...   0.0           1\n",
       "317  my husband and i were in the fairmont chicago ...   0.0           1\n",
       "318  i was in chicago from september   for a conven...   1.0           1\n",
       "319  after reading all the lukewarm reviews for thi...   1.0           1\n",
       "\n",
       "[320 rows x 3 columns]"
      ]
     },
     "execution_count": 509,
     "metadata": {},
     "output_type": "execute_result"
    }
   ],
   "source": [
    "predict_test = pd.DataFrame({'Test':sentences_test, 'Pred':y_pred, 'True_label':y_test}, columns=['Test','Pred','True_label'])\n",
    "predict_test"
   ]
  },
  {
   "cell_type": "code",
   "execution_count": null,
   "id": "126ee4d9",
   "metadata": {},
   "outputs": [],
   "source": []
  },
  {
   "cell_type": "code",
   "execution_count": null,
   "id": "e3219962",
   "metadata": {},
   "outputs": [],
   "source": []
  },
  {
   "cell_type": "code",
   "execution_count": null,
   "id": "518a6a43",
   "metadata": {},
   "outputs": [],
   "source": []
  },
  {
   "cell_type": "code",
   "execution_count": null,
   "id": "8e3ddc7a",
   "metadata": {},
   "outputs": [],
   "source": []
  },
  {
   "cell_type": "code",
   "execution_count": null,
   "id": "8abfac03",
   "metadata": {},
   "outputs": [],
   "source": []
  },
  {
   "cell_type": "code",
   "execution_count": null,
   "id": "918d1a36",
   "metadata": {},
   "outputs": [],
   "source": []
  },
  {
   "cell_type": "code",
   "execution_count": null,
   "id": "9e5e53ae",
   "metadata": {},
   "outputs": [],
   "source": []
  }
 ],
 "metadata": {
  "kernelspec": {
   "display_name": "Python 3 (ipykernel)",
   "language": "python",
   "name": "python3"
  },
  "language_info": {
   "codemirror_mode": {
    "name": "ipython",
    "version": 3
   },
   "file_extension": ".py",
   "mimetype": "text/x-python",
   "name": "python",
   "nbconvert_exporter": "python",
   "pygments_lexer": "ipython3",
   "version": "3.9.13"
  }
 },
 "nbformat": 4,
 "nbformat_minor": 5
}
